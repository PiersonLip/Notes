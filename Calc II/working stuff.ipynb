{
 "cells": [
  {
   "cell_type": "code",
   "execution_count": null,
   "id": "663e7059",
   "metadata": {},
   "outputs": [],
   "source": [
    "for i in (0...10):\n",
    "    "
   ]
  },
  {
   "cell_type": "code",
   "execution_count": null,
   "id": "62092b2d",
   "metadata": {},
   "outputs": [
    {
     "name": "stdout",
     "output_type": "stream",
     "text": [
      "['-1.0/-0.5', '-0.5/-0.8333', '-0.8333/-0.5833', '-0.5833/-0.7833', '-0.7833/-0.6167', '-0.6167/-0.7595', '-0.7595/-0.6345', '-0.6345/-0.7456', '-0.7456/-0.6456', '-0.6456/-0.7365', '-0.7365/-0.6532', '-0.6532/-0.7301', '-0.7301/-0.6587', '-0.6587/-0.7254', '-0.7254/-0.6629', '-0.6629/-0.7217', '-0.7217/-0.6661', '-0.6661/-0.7188', '-0.7188/-0.6688', '-0.6688/-0.7164', '-0.7164/-0.6709', '-0.6709/-0.7144', '-0.7144/-0.6727', '-0.6727/-0.7127', '-0.7127/-0.6743', '-0.6743/-0.7113', '-0.7113/-0.6756', '-0.6756/-0.7101', '-0.7101/-0.6768']\n",
      "[-1.0, -0.5, -0.8333, -0.5833, -0.7833, -0.6167, -0.7595, -0.6345, -0.7456, -0.6456, -0.7365, -0.6532, -0.7301, -0.6587, -0.7254, -0.6629, -0.7217, -0.6661, -0.7188, -0.6688, -0.7164, -0.6709, -0.7144, -0.6727, -0.7127, -0.6743, -0.7113, -0.6756, -0.7101, -0.6768]\n"
     ]
    }
   ],
   "source": [
    "n = 30  # You can adjust this value for more terms\n",
    "values = []\n",
    "current_sum = 0 \n",
    "\n",
    "for i in range(1, n + 1):\n",
    "    \n",
    "    current_sum += (-1)**i / i\n",
    "    values.append(round(current_sum, 4))\n",
    "formatted_values = [f\"{values[i-1]}/{values[i]}\" for i in range(1, len(values))]\n",
    "if i == n:\n",
    "    print(formatted_values)\n",
    "    print(values)"
   ]
  },
  {
   "cell_type": "code",
   "execution_count": 18,
   "id": "4ce8cf7e",
   "metadata": {},
   "outputs": [
    {
     "name": "stdout",
     "output_type": "stream",
     "text": [
      "['1.0/1.5', '1.5/1.8333', '1.8333/2.0833', '2.0833/2.2833', '2.2833/2.45', '2.45/2.5929', '2.5929/2.7179', '2.7179/2.829', '2.829/2.929', '2.929/3.0199', '3.0199/3.1032', '3.1032/3.1801', '3.1801/3.2516', '3.2516/3.3182', '3.3182/3.3807', '3.3807/3.4396', '3.4396/3.4951', '3.4951/3.5477', '3.5477/3.5977', '3.5977/3.6454', '3.6454/3.6908', '3.6908/3.7343', '3.7343/3.776', '3.776/3.816', '3.816/3.8544', '3.8544/3.8915', '3.8915/3.9272', '3.9272/3.9617', '3.9617/3.995']\n",
      "[1.0, 1.5, 1.8333, 2.0833, 2.2833, 2.45, 2.5929, 2.7179, 2.829, 2.929, 3.0199, 3.1032, 3.1801, 3.2516, 3.3182, 3.3807, 3.4396, 3.4951, 3.5477, 3.5977, 3.6454, 3.6908, 3.7343, 3.776, 3.816, 3.8544, 3.8915, 3.9272, 3.9617, 3.995]\n"
     ]
    }
   ],
   "source": [
    "n = 30  # You can adjust this value for more terms\n",
    "values = []\n",
    "current_sum = 0 \n",
    "\n",
    "for i in range(1, n + 1):\n",
    "    \n",
    "    current_sum += 1 / i\n",
    "    values.append(round(current_sum, 4))\n",
    "formatted_values = [f\"{values[i-1]}/{values[i]}\" for i in range(1, len(values))]\n",
    "if i == n:\n",
    "    print(formatted_values)\n",
    "    print(values)"
   ]
  }
 ],
 "metadata": {
  "kernelspec": {
   "display_name": "base",
   "language": "python",
   "name": "python3"
  },
  "language_info": {
   "codemirror_mode": {
    "name": "ipython",
    "version": 3
   },
   "file_extension": ".py",
   "mimetype": "text/x-python",
   "name": "python",
   "nbconvert_exporter": "python",
   "pygments_lexer": "ipython3",
   "version": "3.12.4"
  }
 },
 "nbformat": 4,
 "nbformat_minor": 5
}
